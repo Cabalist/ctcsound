{
 "cells": [
  {
   "cell_type": "code",
   "execution_count": null,
   "metadata": {
    "collapsed": false
   },
   "outputs": [],
   "source": [
    "%load_ext autoreload\n",
    "%autoreload 2\n",
    "import ctcsound\n",
    "cs = ctcsound.Csound()"
   ]
  },
  {
   "cell_type": "code",
   "execution_count": null,
   "metadata": {
    "collapsed": false
   },
   "outputs": [],
   "source": [
    "import ctypes as ct\n",
    "import numpy as np"
   ]
  },
  {
   "cell_type": "code",
   "execution_count": null,
   "metadata": {
    "collapsed": false
   },
   "outputs": [],
   "source": [
    "cs.compile_(\"dummy\", \"analogSynth01.csd\")\n",
    "ctrl, err = cs.channelPtr(\"ctrl\", ctcsound.CSOUND_CONTROL_CHANNEL | ctcsound.CSOUND_INPUT_CHANNEL)\n",
    "print(ctrl, err)\n",
    "audio, err = cs.channelPtr(\"audio\", ctcsound.CSOUND_AUDIO_CHANNEL | ctcsound.CSOUND_INPUT_CHANNEL)\n",
    "print(audio, err)\n",
    "str_, err = cs.channelPtr(\"string\", ctcsound.CSOUND_STRING_CHANNEL | ctcsound.CSOUND_INPUT_CHANNEL)\n",
    "print(str_, err)"
   ]
  },
  {
   "cell_type": "code",
   "execution_count": null,
   "metadata": {
    "collapsed": false
   },
   "outputs": [],
   "source": [
    "print(len(ctrl), len(audio))"
   ]
  },
  {
   "cell_type": "code",
   "execution_count": null,
   "metadata": {
    "collapsed": false
   },
   "outputs": [],
   "source": [
    "str_.value"
   ]
  },
  {
   "cell_type": "code",
   "execution_count": null,
   "metadata": {
    "collapsed": false
   },
   "outputs": [],
   "source": [
    "lst, err = cs.listChannels()\n",
    "print(lst, err)"
   ]
  },
  {
   "cell_type": "code",
   "execution_count": null,
   "metadata": {
    "collapsed": false
   },
   "outputs": [],
   "source": [
    "def showChannels(lst):\n",
    "    for l in lst:\n",
    "        print(ctcsound.pstring(l.name), l.type)\n",
    "        print(\"  \", l.hints.behav)\n",
    "        print(\"  \", l.hints.dflt, l.hints.min, l.hints.max, l.hints.x, l.hints.y, l.hints.width, l.hints.height)\n",
    "        print(\"  \", l.hints.attributes)\n",
    "showChannels(lst)"
   ]
  },
  {
   "cell_type": "code",
   "execution_count": null,
   "metadata": {
    "collapsed": false
   },
   "outputs": [],
   "source": [
    "hints = ctcsound.ControlChannelHints(1, 2.1, 1.5, 3.7, 10, 100, 150, 200, None)\n",
    "err = cs.setControlChannelHints('ctrl', hints)\n",
    "print(err)\n",
    "hints_ = cs.controlChannelHints('ctrl')\n",
    "print(hints)\n",
    "lst, err = cs.listChannels()\n",
    "print(lst, err)\n",
    "showChannels(lst)"
   ]
  },
  {
   "cell_type": "code",
   "execution_count": null,
   "metadata": {
    "collapsed": false
   },
   "outputs": [],
   "source": [
    "cs.deleteChannelList(lst)\n",
    "lst, err = cs.listChannels()\n",
    "for l in lst:\n",
    "    if ctcsound.pstring(l.name) == 'ctrl':\n",
    "        print(ctcsound.pstring(l.name), l.type)\n",
    "        print(\"  \", l.hints.behav)\n",
    "        print(\"  \", l.hints.dflt, l.hints.min, l.hints.max, l.hints.x, l.hints.y, l.hints.width, l.hints.height)\n",
    "        print(\"  \", l.hints.attributes)"
   ]
  },
  {
   "cell_type": "code",
   "execution_count": null,
   "metadata": {
    "collapsed": false
   },
   "outputs": [],
   "source": [
    "cs.deleteChannelList(lst)"
   ]
  },
  {
   "cell_type": "code",
   "execution_count": null,
   "metadata": {
    "collapsed": false
   },
   "outputs": [],
   "source": [
    "cs.cleanup()"
   ]
  },
  {
   "cell_type": "code",
   "execution_count": null,
   "metadata": {
    "collapsed": true
   },
   "outputs": [],
   "source": []
  }
 ],
 "metadata": {
  "kernelspec": {
   "display_name": "Python 3",
   "language": "python",
   "name": "python3"
  },
  "language_info": {
   "codemirror_mode": {
    "name": "ipython",
    "version": 3
   },
   "file_extension": ".py",
   "mimetype": "text/x-python",
   "name": "python",
   "nbconvert_exporter": "python",
   "pygments_lexer": "ipython3",
   "version": "3.5.1"
  }
 },
 "nbformat": 4,
 "nbformat_minor": 0
}
