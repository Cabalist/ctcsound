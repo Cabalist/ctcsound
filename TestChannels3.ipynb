{
 "cells": [
  {
   "cell_type": "code",
   "execution_count": 1,
   "metadata": {
    "collapsed": true
   },
   "outputs": [],
   "source": [
    "%load_ext autoreload\n",
    "%autoreload 2\n",
    "import ctcsound\n",
    "cs = ctcsound.Csound()"
   ]
  },
  {
   "cell_type": "code",
   "execution_count": 2,
   "metadata": {
    "collapsed": false
   },
   "outputs": [],
   "source": [
    "import ctypes as ct\n",
    "import numpy as np\n"
   ]
  },
  {
   "cell_type": "code",
   "execution_count": 3,
   "metadata": {
    "collapsed": false
   },
   "outputs": [
    {
     "name": "stdout",
     "output_type": "stream",
     "text": [
      "[ 0.] \n",
      "[ 0.  0.  0. ...,  0.  0.  0.] \n",
      "c_char_p(49403952) \n"
     ]
    }
   ],
   "source": [
    "cs.compile_(\"dummy\", \"analogSynth01.csd\")\n",
    "ctrl, err = cs.channelPtr(\"ctrl\", ctcsound.CSOUND_CONTROL_CHANNEL | ctcsound.CSOUND_INPUT_CHANNEL)\n",
    "print(ctrl, err)\n",
    "audio, err = cs.channelPtr(\"audio\", ctcsound.CSOUND_AUDIO_CHANNEL | ctcsound.CSOUND_INPUT_CHANNEL)\n",
    "print(audio, err)\n",
    "str_, err = cs.channelPtr(\"string\", ctcsound.CSOUND_STRING_CHANNEL | ctcsound.CSOUND_INPUT_CHANNEL)\n",
    "print(str_, err)\n"
   ]
  },
  {
   "cell_type": "code",
   "execution_count": 4,
   "metadata": {
    "collapsed": false
   },
   "outputs": [
    {
     "name": "stdout",
     "output_type": "stream",
     "text": [
      "1 2000\n"
     ]
    }
   ],
   "source": [
    "print(len(ctrl), len(audio))"
   ]
  },
  {
   "cell_type": "code",
   "execution_count": 5,
   "metadata": {
    "collapsed": false
   },
   "outputs": [],
   "source": [
    "lst, err = cs.listChannels()"
   ]
  },
  {
   "cell_type": "code",
   "execution_count": 6,
   "metadata": {
    "collapsed": false
   },
   "outputs": [
    {
     "name": "stdout",
     "output_type": "stream",
     "text": [
      "[{'hints': <ctcsound.ControlChannelHints object at 0x7fd863591c80>, 'name': 'audio', 'type': 18}, {'hints': <ctcsound.ControlChannelHints object at 0x7fd863591d90>, 'name': 'ctrl', 'type': 17}, {'hints': <ctcsound.ControlChannelHints object at 0x7fd863591ea0>, 'name': 'string', 'type': 19}]\n"
     ]
    }
   ],
   "source": [
    "print(lst)"
   ]
  },
  {
   "cell_type": "code",
   "execution_count": 13,
   "metadata": {
    "collapsed": true
   },
   "outputs": [],
   "source": [
    "h1 = lst[2]['hints']"
   ]
  },
  {
   "cell_type": "code",
   "execution_count": 14,
   "metadata": {
    "collapsed": false
   },
   "outputs": [
    {
     "name": "stdout",
     "output_type": "stream",
     "text": [
      "0 0.0 0.0 0.0 0 0 0 0 None\n"
     ]
    }
   ],
   "source": [
    "print(h1.behav, h1.dflt, h1.min, h1.max, h1.x, h1.y, h1.width, h1.height, h1.attributes)"
   ]
  },
  {
   "cell_type": "code",
   "execution_count": null,
   "metadata": {
    "collapsed": true
   },
   "outputs": [],
   "source": []
  }
 ],
 "metadata": {
  "kernelspec": {
   "display_name": "Python 3",
   "language": "python",
   "name": "python3"
  },
  "language_info": {
   "codemirror_mode": {
    "name": "ipython",
    "version": 3
   },
   "file_extension": ".py",
   "mimetype": "text/x-python",
   "name": "python",
   "nbconvert_exporter": "python",
   "pygments_lexer": "ipython3",
   "version": "3.4.3"
  }
 },
 "nbformat": 4,
 "nbformat_minor": 0
}
