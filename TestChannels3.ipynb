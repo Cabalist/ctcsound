{
 "cells": [
  {
   "cell_type": "code",
   "execution_count": 10,
   "metadata": {
    "collapsed": false
   },
   "outputs": [
    {
     "name": "stdout",
     "output_type": "stream",
     "text": [
      "The autoreload extension is already loaded. To reload it, use:\n",
      "  %reload_ext autoreload\n"
     ]
    }
   ],
   "source": [
    "%load_ext autoreload\n",
    "%autoreload 2\n",
    "import ctcsound\n",
    "cs = ctcsound.Csound()"
   ]
  },
  {
   "cell_type": "code",
   "execution_count": 11,
   "metadata": {
    "collapsed": false
   },
   "outputs": [],
   "source": [
    "import ctypes as ct\n",
    "import numpy as np\n"
   ]
  },
  {
   "cell_type": "code",
   "execution_count": 12,
   "metadata": {
    "collapsed": false
   },
   "outputs": [
    {
     "name": "stdout",
     "output_type": "stream",
     "text": [
      "[ 0.] \n",
      "[  0.00000000e+00   0.00000000e+00   0.00000000e+00 ...,   0.00000000e+00\n",
      "   1.45623280e+09   0.00000000e+00] \n",
      "c_char_p(45378496) \n"
     ]
    }
   ],
   "source": [
    "cs.compile_(\"dummy\", \"analogSynth01.csd\")\n",
    "ctrl, err = cs.channelPtr(\"ctrl\", ctcsound.CSOUND_CONTROL_CHANNEL | ctcsound.CSOUND_INPUT_CHANNEL)\n",
    "print(ctrl, err)\n",
    "audio, err = cs.channelPtr(\"audio\", ctcsound.CSOUND_AUDIO_CHANNEL | ctcsound.CSOUND_INPUT_CHANNEL)\n",
    "print(audio, err)\n",
    "str_, err = cs.channelPtr(\"string\", ctcsound.CSOUND_STRING_CHANNEL | ctcsound.CSOUND_INPUT_CHANNEL)\n",
    "print(str_, err)\n"
   ]
  },
  {
   "cell_type": "code",
   "execution_count": 13,
   "metadata": {
    "collapsed": false
   },
   "outputs": [
    {
     "name": "stdout",
     "output_type": "stream",
     "text": [
      "1 2000\n"
     ]
    }
   ],
   "source": [
    "print(len(ctrl), len(audio))"
   ]
  },
  {
   "cell_type": "code",
   "execution_count": 14,
   "metadata": {
    "collapsed": false
   },
   "outputs": [
    {
     "data": {
      "text/plain": [
       "b'\\xe0\\xf1\\xf7\\x03'"
      ]
     },
     "execution_count": 14,
     "metadata": {},
     "output_type": "execute_result"
    }
   ],
   "source": [
    "str_.value"
   ]
  },
  {
   "cell_type": "code",
   "execution_count": 15,
   "metadata": {
    "collapsed": false
   },
   "outputs": [
    {
     "name": "stdout",
     "output_type": "stream",
     "text": [
      "<ctcsound.ControlChannelInfo_Array_3 object at 0x7fb3b59ff840> \n"
     ]
    }
   ],
   "source": [
    "lst, err = cs.listChannels()\n",
    "print(lst, err)"
   ]
  },
  {
   "cell_type": "code",
   "execution_count": 16,
   "metadata": {
    "collapsed": false
   },
   "outputs": [
    {
     "name": "stdout",
     "output_type": "stream",
     "text": [
      "audio 18\n",
      "   0\n",
      "   0.0 0.0 0.0 0 0 0 0\n",
      "   None\n",
      "ctrl 17\n",
      "   0\n",
      "   0.0 0.0 0.0 0 0 0 0\n",
      "   None\n",
      "string 19\n",
      "   0\n",
      "   0.0 0.0 0.0 0 0 0 0\n",
      "   None\n"
     ]
    }
   ],
   "source": [
    "def showChannels(lst):\n",
    "    for l in lst:\n",
    "        print(ctcsound.pstring(l.name), l.type)\n",
    "        print(\"  \", l.hints.behav)\n",
    "        print(\"  \", l.hints.dflt, l.hints.min, l.hints.max, l.hints.x, l.hints.y, l.hints.width, l.hints.height)\n",
    "        print(\"  \", l.hints.attributes)\n",
    "showChannels(lst)"
   ]
  },
  {
   "cell_type": "code",
   "execution_count": 17,
   "metadata": {
    "collapsed": false
   },
   "outputs": [
    {
     "name": "stdout",
     "output_type": "stream",
     "text": [
      "0\n",
      "<ctcsound.ControlChannelHints object at 0x7fb3b59f2f28>\n",
      "<ctcsound.ControlChannelInfo_Array_3 object at 0x7fb3b59ff9d8> \n",
      "audio 18\n",
      "   0\n",
      "   0.0 0.0 0.0 0 0 0 0\n",
      "   None\n",
      "ctrl 17\n",
      "   1\n",
      "   2.0 2.0 4.0 10 100 150 200\n",
      "   None\n",
      "string 19\n",
      "   0\n",
      "   0.0 0.0 0.0 0 0 0 0\n",
      "   None\n"
     ]
    }
   ],
   "source": [
    "hints = ctcsound.ControlChannelHints(1, 2.1, 1.5, 3.7, 10, 100, 150, 200, None)\n",
    "err = cs.setControlChannelHints('ctrl', hints)\n",
    "print(err)\n",
    "hints_ = cs.controlChannelHints('ctrl')\n",
    "print(hints)\n",
    "lst, err = cs.listChannels()\n",
    "print(lst, err)\n",
    "showChannels(lst)\n"
   ]
  },
  {
   "cell_type": "code",
   "execution_count": 18,
   "metadata": {
    "collapsed": false
   },
   "outputs": [
    {
     "name": "stdout",
     "output_type": "stream",
     "text": [
      "ctrl 17\n",
      "   1\n",
      "   2.0 2.0 4.0 10 100 150 200\n",
      "   None\n"
     ]
    }
   ],
   "source": [
    "cs.deleteChannelList(lst)\n",
    "lst, err = cs.listChannels()\n",
    "for l in lst:\n",
    "    if ctcsound.pstring(l.name) == 'ctrl':\n",
    "        print(ctcsound.pstring(l.name), l.type)\n",
    "        print(\"  \", l.hints.behav)\n",
    "        print(\"  \", l.hints.dflt, l.hints.min, l.hints.max, l.hints.x, l.hints.y, l.hints.width, l.hints.height)\n",
    "        print(\"  \", l.hints.attributes)"
   ]
  },
  {
   "cell_type": "code",
   "execution_count": 19,
   "metadata": {
    "collapsed": false
   },
   "outputs": [],
   "source": [
    "cs.deleteChannelList(lst)"
   ]
  },
  {
   "cell_type": "code",
   "execution_count": 20,
   "metadata": {
    "collapsed": false
   },
   "outputs": [
    {
     "data": {
      "text/plain": [
       "0"
      ]
     },
     "execution_count": 20,
     "metadata": {},
     "output_type": "execute_result"
    }
   ],
   "source": [
    "cs.cleanup()\n"
   ]
  },
  {
   "cell_type": "code",
   "execution_count": null,
   "metadata": {
    "collapsed": true
   },
   "outputs": [],
   "source": []
  }
 ],
 "metadata": {
  "kernelspec": {
   "display_name": "Python 3",
   "language": "python",
   "name": "python3"
  },
  "language_info": {
   "codemirror_mode": {
    "name": "ipython",
    "version": 3
   },
   "file_extension": ".py",
   "mimetype": "text/x-python",
   "name": "python",
   "nbconvert_exporter": "python",
   "pygments_lexer": "ipython3",
   "version": "3.4.3"
  }
 },
 "nbformat": 4,
 "nbformat_minor": 0
}
