{
 "cells": [
  {
   "cell_type": "code",
   "execution_count": 1,
   "metadata": {
    "collapsed": false
   },
   "outputs": [
    {
     "data": {
      "text/plain": [
       "0"
      ]
     },
     "execution_count": 1,
     "metadata": {},
     "output_type": "execute_result"
    }
   ],
   "source": [
    "import ctcsound\n",
    "cs = ctcsound.Csound()\n",
    "\n",
    "csd = '''\n",
    "<CsoundSynthesizer>\n",
    "\n",
    "<CsOptions>\n",
    "  -d -o dac -m0\n",
    "</CsOptions>\n",
    "\n",
    "<CsInstruments>\n",
    "sr     = 48000\n",
    "ksmps  = 100\n",
    "nchnls = 2\n",
    "0dbfs  = 1\n",
    "\n",
    "          instr 1\n",
    "idur      =         p3\n",
    "iamp      =         p4\n",
    "icps      =         cpspch(p5)\n",
    "irise     =         p6\n",
    "idec      =         p7\n",
    "ipan      =         p8\n",
    "\n",
    "kenv      linen     iamp, irise, idur, idec\n",
    "kenv      =         kenv*kenv\n",
    "asig      poscil    kenv, icps\n",
    "a1, a2    pan2      asig, ipan\n",
    "          outs      a1, a2\n",
    "          endin\n",
    "</CsInstruments>\n",
    "\n",
    "<CsScore>\n",
    "f 0 14400    ; a 4 hours session should be enough\n",
    "</CsScore>\n",
    "</CsoundSynthesizer>\n",
    "'''\n",
    "cs.compileCsdText(csd)\n",
    "cs.start()"
   ]
  },
  {
   "cell_type": "code",
   "execution_count": 2,
   "metadata": {
    "collapsed": false
   },
   "outputs": [],
   "source": [
    "pt = ctcsound.CsoundPerformanceThread(cs.csound())\n",
    "pt.play()"
   ]
  },
  {
   "cell_type": "code",
   "execution_count": 10,
   "metadata": {
    "collapsed": false
   },
   "outputs": [
    {
     "data": {
      "text/plain": [
       "0"
      ]
     },
     "execution_count": 10,
     "metadata": {},
     "output_type": "execute_result"
    }
   ],
   "source": [
    "pt.scoreEvent(False, 'i', (1, 0, 1, 0.5, 8.06, 0.05, 0.3, 0.5))\n",
    "cs.scoreEvent('i', (1, 0.5, 1, 0.5, 9.06, 0.05, 0.3, 0.5))"
   ]
  },
  {
   "cell_type": "code",
   "execution_count": 12,
   "metadata": {
    "collapsed": false
   },
   "outputs": [
    {
     "data": {
      "text/plain": [
       "11835.691666666668"
      ]
     },
     "execution_count": 12,
     "metadata": {},
     "output_type": "execute_result"
    }
   ],
   "source": [
    "cs.scoreTime()"
   ]
  },
  {
   "cell_type": "code",
   "execution_count": null,
   "metadata": {
    "collapsed": true
   },
   "outputs": [],
   "source": []
  }
 ],
 "metadata": {
  "kernelspec": {
   "display_name": "Python 3",
   "language": "python",
   "name": "python3"
  },
  "language_info": {
   "codemirror_mode": {
    "name": "ipython",
    "version": 3
   },
   "file_extension": ".py",
   "mimetype": "text/x-python",
   "name": "python",
   "nbconvert_exporter": "python",
   "pygments_lexer": "ipython3",
   "version": "3.5.1"
  }
 },
 "nbformat": 4,
 "nbformat_minor": 0
}
