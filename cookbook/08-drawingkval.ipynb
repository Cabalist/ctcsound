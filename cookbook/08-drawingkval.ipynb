{
 "cells": [
  {
   "cell_type": "code",
   "execution_count": 1,
   "metadata": {},
   "outputs": [],
   "source": [
    "import numpy as np\n",
    "import matplotlib.pyplot as plt\n",
    "import ctcsound"
   ]
  },
  {
   "cell_type": "code",
   "execution_count": 2,
   "metadata": {},
   "outputs": [],
   "source": [
    "cs = ctcsound.Csound()"
   ]
  },
  {
   "cell_type": "code",
   "execution_count": 3,
   "metadata": {},
   "outputs": [],
   "source": [
    "orc = \"\"\"\n",
    "sr     = 48000\n",
    "ksmps  = 100\n",
    "nchnls = 1\n",
    "0dbfs  = 1\n",
    "\n",
    "instr 1\n",
    "  kVal line   0, 1, 1\n",
    "       chnset kVal, \"val\"\n",
    "  asig vco2   0.5, 440*(kVal+1)\n",
    "       out    asig\n",
    "endin\n",
    "\"\"\""
   ]
  },
  {
   "cell_type": "code",
   "execution_count": 4,
   "metadata": {},
   "outputs": [],
   "source": [
    "sco = \"i1 0 1\""
   ]
  },
  {
   "cell_type": "code",
   "execution_count": 6,
   "metadata": {},
   "outputs": [],
   "source": [
    "cs.setOption(\"-odac\")\n",
    "cs.compileOrc(orc)\n",
    "cs.readScore(sco)\n",
    "cs.start()\n",
    "while cs.performKsmps() == ctcsound.CSOUND_SUCCESS:\n",
    "    pass\n",
    "cs.reset()"
   ]
  },
  {
   "cell_type": "code",
   "execution_count": 7,
   "metadata": {},
   "outputs": [],
   "source": [
    "cs.cleanup()\n",
    "del cs"
   ]
  },
  {
   "cell_type": "code",
   "execution_count": 29,
   "metadata": {},
   "outputs": [],
   "source": []
  }
 ],
 "metadata": {
  "kernelspec": {
   "display_name": "Python 3",
   "language": "python",
   "name": "python3"
  },
  "language_info": {
   "codemirror_mode": {
    "name": "ipython",
    "version": 3
   },
   "file_extension": ".py",
   "mimetype": "text/x-python",
   "name": "python",
   "nbconvert_exporter": "python",
   "pygments_lexer": "ipython3",
   "version": "3.6.8"
  }
 },
 "nbformat": 4,
 "nbformat_minor": 2
}
