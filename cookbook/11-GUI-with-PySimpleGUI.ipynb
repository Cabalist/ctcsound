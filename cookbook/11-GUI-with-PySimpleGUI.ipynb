{
 "cells": [
  {
   "cell_type": "markdown",
   "metadata": {},
   "source": [
    "# Building Graphical Interfaces for ctcsound with PySimpleGUI"
   ]
  },
  {
   "cell_type": "markdown",
   "metadata": {},
   "source": [
    "There are many GUI toolkits for Python. An overview can be found [here](https://wiki.python.org/moin/GuiProgramming). We will choose [PySimpleGui](http://www.pysimplegui.com/) here. For running ctcsound, we will use iCsound."
   ]
  },
  {
   "cell_type": "markdown",
   "metadata": {},
   "source": [
    "## Basic PySimpleGUI Concepts"
   ]
  },
  {
   "cell_type": "markdown",
   "metadata": {},
   "source": [
    "Once PySimpleGUI is installed via pip or conda, it can be imported, by convention as *sg*."
   ]
  },
  {
   "cell_type": "code",
   "execution_count": null,
   "metadata": {},
   "outputs": [],
   "source": [
    "import PySimpleGUI as sg"
   ]
  },
  {
   "cell_type": "markdown",
   "metadata": {},
   "source": [
    "The code for a GUI has two main parts:\n",
    "- The **layout** containing the *widgets* (mostly called *elements*) in the **window**.\n",
    "- The main **event loop** in which the widget's information are being read.\n",
    "\n",
    "This is a simple example:"
   ]
  },
  {
   "cell_type": "code",
   "execution_count": null,
   "metadata": {},
   "outputs": [],
   "source": [
    "layout = [[sg.Input(key='INPUT')],\n",
    "          [sg.Button('Read'), sg.Exit()]]\n",
    "\n",
    "window = sg.Window('Please type', layout)\n",
    "\n",
    "while True:\n",
    "    event, values = window.read()\n",
    "    print(event, values)\n",
    "    if event is None or event == 'Exit':\n",
    "        break\n",
    "\n",
    "window.close()"
   ]
  },
  {
   "cell_type": "markdown",
   "metadata": {},
   "source": [
    "- The layout consists of lists which each contains the widgets for one line.\n",
    "- The `sg.Input()` element is the one which gets the text input. So we give it a **key** as signifier. Usually the key is a string.\n",
    "- In the event loop, we read the `values` once an event (here: a press on the *Read* button) has been received.\n",
    "- As can be seen in the printout, *values* are a python dictionnary. If we want to retrieve the data, we will write `values['INPUT']`\n",
    "- The `if` condition gives two options for closing the window: either by clicking the *Exit* button, or by closing with the X."
   ]
  },
  {
   "cell_type": "markdown",
   "metadata": {},
   "source": [
    "## GUI -> Csound"
   ]
  },
  {
   "cell_type": "markdown",
   "metadata": {},
   "source": [
    "This knowledge is actually enough to start using a PySimpleGUI in iCsound. We will first look at examples where Csound parameters are controlled by widgets."
   ]
  },
  {
   "cell_type": "markdown",
   "metadata": {},
   "source": [
    "### Slider"
   ]
  },
  {
   "cell_type": "markdown",
   "metadata": {},
   "source": [
    "First, we start iCsound and send some code to the running instance."
   ]
  },
  {
   "cell_type": "code",
   "execution_count": null,
   "metadata": {},
   "outputs": [],
   "source": [
    "%load_ext csoundmagics\n",
    "cs = ICsound()\n",
    "orc = \"\"\"\n",
    "instr 1\n",
    " kFreq chnget \"freq\"\n",
    " aOut poscil .2, kFreq\n",
    " out aOut, aOut\n",
    "endin\n",
    "schedule(1,0,-1)\"\"\"\n",
    "cs.sendCode(orc)"
   ]
  },
  {
   "cell_type": "markdown",
   "metadata": {},
   "source": [
    "Now we create a GUI in which we send the slider values to the channel \"freq\"."
   ]
  },
  {
   "cell_type": "code",
   "execution_count": null,
   "metadata": {},
   "outputs": [],
   "source": [
    "layout = [[sg.Slider(range=(500,1000),orientation='h',key='FREQ',enable_events=True)]]\n",
    "\n",
    "window = sg.Window('Simple Slider',layout)\n",
    "\n",
    "while True:\n",
    "    event, values = window.read()\n",
    "    if event is None:\n",
    "        break\n",
    "    cs.setControlChannel('freq',values['FREQ'])\n",
    "        \n",
    "window.close()"
   ]
  },
  {
   "cell_type": "markdown",
   "metadata": {},
   "source": [
    "And we have to turnoff our instrument and delete the iCsound instance."
   ]
  },
  {
   "cell_type": "code",
   "execution_count": null,
   "metadata": {},
   "outputs": [],
   "source": [
    "cs.sendScore('i -1 0 1')\n",
    "del cs"
   ]
  },
  {
   "cell_type": "markdown",
   "metadata": {},
   "source": [
    "### Button"
   ]
  },
  {
   "cell_type": "markdown",
   "metadata": {},
   "source": [
    "A button can have different functions. We use here one button to browse a sound file, and one button to start/stop the performance."
   ]
  },
  {
   "cell_type": "markdown",
   "metadata": {},
   "source": [
    "At first we create th iCsound instance and send some new code to it."
   ]
  },
  {
   "cell_type": "code",
   "execution_count": null,
   "metadata": {},
   "outputs": [],
   "source": [
    "cs = ICsound()\n",
    "orc = \"\"\"\n",
    "instr Playback\n",
    " Sfile chnget \"file\"\n",
    " aFile[] diskin Sfile,1,0,1\n",
    " kFadeOut linenr 1, 0, 1, .01\n",
    " out aFile*kFadeOut\n",
    "endin\n",
    "\"\"\"\n",
    "cs.sendCode(orc)"
   ]
  },
  {
   "cell_type": "markdown",
   "metadata": {},
   "source": [
    "Then we build a GUI with three buttons:\n",
    "- A file browser. We add a string as key, and we set `enable_events=True` to send the browsed file as event.\n",
    "- A *Start* button. This button will send the score `i \"Playback\" 0 -1` to activate instrument *Playback*. This instrument will play the sound file in a loop.\n",
    "- A *Stop* button. This button will stop the instrument. We can stop an instrument with negative p3 by calling .it with negative p1. As we are using instrument names here, we must first transform the name \"Playback\" to the number Csound has given it: `-nstrnum(\"Playback\")` does the trick.  \n",
    "\n",
    "Once the window is being closed, we delete the Csound instance as usual with `del cs`."
   ]
  },
  {
   "cell_type": "code",
   "execution_count": null,
   "metadata": {},
   "outputs": [],
   "source": [
    "layout = [[sg.Text('Select Audio File, then Start/Stop Playback')],      \n",
    "          [sg.FileBrowse(key='FILE',enable_events=True), sg.Button('Start'), sg.Button('Stop')]]\n",
    "\n",
    "window = sg.Window('',layout)\n",
    "\n",
    "while True:\n",
    "    event, values = window.read()\n",
    "    if event is None:\n",
    "        break\n",
    "    cs.setStringChannel('file',values['FILE'])\n",
    "    if event is 'Start':\n",
    "        cs.sendScore('i \"Playback\" 0 -1')\n",
    "    if event is 'Stop':\n",
    "        cs.sendCode('schedule(-nstrnum(\"Playback\"),0,0)')\n",
    "\n",
    "cs.stopEngine()\n",
    "del cs\n",
    "window.close()"
   ]
  },
  {
   "cell_type": "markdown",
   "metadata": {},
   "source": [
    "### Spinbox, Menu, Checkbox, Radiobutton"
   ]
  },
  {
   "cell_type": "markdown",
   "metadata": {},
   "source": [
    "to be added ..."
   ]
  },
  {
   "cell_type": "markdown",
   "metadata": {},
   "source": [
    "## Csound -> GUI"
   ]
  },
  {
   "cell_type": "markdown",
   "metadata": {},
   "source": [
    "We will now look at the opposite direction: Sending signals from Csound to the GUI."
   ]
  },
  {
   "cell_type": "markdown",
   "metadata": {},
   "source": [
    "### Basic Example\n",
    "\n",
    "To see how things are working here, we only create a line in Csound which randomly moves between -1 and 1. We send this k-signal in a channel called \"line\". \n",
    "\n",
    "On the PySimpleGUI side there is one important change to the approach so far. As we have no events which are triggered by any user action, we must must include a **timeout** statement in the `window.read()` call. Thie will update the widgets every *timeout* milliseconds. So *timeout=100* will refresh the GUI ten times per second.\n",
    "\n",
    "Reading the Csound channel in the Python environment is done via iCsound's `channel` method. The return value of `cs.channel('line')`, however, is not the channel value itself, but a tuple of the value and the data type. So to retrieve the value we have to extract the first element by `cs.channel('line')[0]`."
   ]
  },
  {
   "cell_type": "code",
   "execution_count": null,
   "metadata": {},
   "outputs": [],
   "source": [
    "# csound start\n",
    "cs = ICsound()\n",
    "orc = \"\"\"\n",
    "instr 1\n",
    " kLine randomi -1,1,1,3\n",
    " chnset kLine, \"line\"\n",
    "endin\n",
    "\"\"\"\n",
    "cs.sendCode(orc)\n",
    "cs.sendScore('i 1 0 -1')\n",
    "\n",
    "# GUI\n",
    "layout = [[sg.Slider(range=(-1,1),\n",
    "                     orientation='h',\n",
    "                     key='LINE',\n",
    "                     disable_number_display=True,\n",
    "                     resolution=.01)],\n",
    "          [sg.Text(size=(6,1),\n",
    "                   key='LINET',\n",
    "                   text_color='black',\n",
    "                   background_color='white',\n",
    "                   justification = 'right',\n",
    "                   font=('Courier',16,'bold'))]\n",
    "         ]\n",
    "\n",
    "# window and event loop\n",
    "window = sg.Window('Simple Csound -> GUI Example',layout)\n",
    "while True:\n",
    "    event, values = window.read(timeout=100)\n",
    "    if event is None:\n",
    "        cs.sendScore('i -1 0 1')\n",
    "        del cs\n",
    "        break\n",
    "    window['LINE'].update(cs.channel('line')[0])\n",
    "    window['LINET'].update('%+.3f' % cs.channel('line')[0])\n",
    "window.close()"
   ]
  },
  {
   "cell_type": "markdown",
   "metadata": {},
   "source": [
    "### Display Csound Tables"
   ]
  },
  {
   "cell_type": "markdown",
   "metadata": {},
   "source": [
    "The *Graph* element in PySimpleGUI can be used to display Csound function tables. Currently (June 2020) the Graph element is missing a method to plot an array straightforward. So at first we define a function for it."
   ]
  },
  {
   "cell_type": "code",
   "execution_count": null,
   "metadata": {},
   "outputs": [],
   "source": [
    "def plotArray(graph, y=[], linewidth=2, color='black'):\n",
    "    \"\"\"Plots the array y in the graph element.\n",
    "    Assumes that x of  graph is 0 to tablelen.\"\"\"\n",
    "    import numpy as np\n",
    "    for i in np.arange(len(y)-1):\n",
    "        graph.draw_line((i,y[i]), (i+1,y[i+1]), color=color, width=linewidth)"
   ]
  },
  {
   "cell_type": "markdown",
   "metadata": {},
   "source": [
    "For static display of a table we will put the function outside the event loop. We get the table data with iCsound's *table* method."
   ]
  },
  {
   "cell_type": "code",
   "execution_count": null,
   "metadata": {},
   "outputs": [],
   "source": [
    "cs = ICsound()\n",
    "\n",
    "orc = \"\"\"\n",
    "i0 ftgen 1, 0, 0, 1, \"examples/fox.wav\", 0, 0, 0\n",
    "\"\"\"\n",
    "cs.sendCode(orc)\n",
    "tablen = cs.tableLength(1)\n",
    "\n",
    "layout = [[sg.Graph(canvas_size=(400, 200), \n",
    "                    graph_bottom_left=(0, -1), \n",
    "                    graph_top_right=(tablen, 1),\n",
    "                    background_color='white',\n",
    "                    key='graph')]]\n",
    "\n",
    "window = sg.Window('csound table', layout, finalize=True)\n",
    "table_disp = window['graph']\n",
    "\n",
    "y = cs.table(1)\n",
    "plotArray(table_disp, y)\n",
    "\n",
    "while True:\n",
    "    event, values = window.read()\n",
    "    if event is None:\n",
    "        cs.stopEngine()\n",
    "        del cs\n",
    "        break\n",
    "        \n",
    "window.close()"
   ]
  },
  {
   "cell_type": "markdown",
   "metadata": {},
   "source": [
    "If we want to show dynamically changing tables, we will put the plot function in the event loop. Table data and display are updated then every *timeout* milliseconds. In the next example an additive synthesis instrument plays some sine partials. After three seconds the table is being blurred slowly."
   ]
  },
  {
   "cell_type": "code",
   "execution_count": null,
   "metadata": {},
   "outputs": [],
   "source": [
    "cs = ICsound()\n",
    "orc = \"\"\"\n",
    "seed 0\n",
    "i0 ftgen 1, 0, 1024, 10, 1\n",
    "instr Blur\n",
    " indx = 0\n",
    " while indx<1024 do\n",
    "   tablew limit:i(table:i(indx,1)+rnd31:i(1/p4,0),-1,1), indx, 1\n",
    "   indx += 1\n",
    "  od\n",
    " schedule(\"Blur\",.1,0,limit:i(p4-p4/100,1,p4))\n",
    "endin\n",
    "instr Play\n",
    " iFreq random 500, 510\n",
    " a1 poscil transeg:a(1/10,p3,-3,0), iFreq, 1\n",
    " a2 poscil transeg:a(1/20,p3,-5,0), iFreq*2.32, 1\n",
    " a3 poscil transeg:a(1/30,p3,-6,0), iFreq*4.25, 1\n",
    " a4 poscil transeg:a(1/40,p3,-7,0), iFreq*6.63, 1\n",
    " a5 poscil transeg:a(1/50,p3,-8,0), iFreq*9.38, 1\n",
    " aSnd sum a1, a2, a3, a4, a5\n",
    " aSnd butlp aSnd, 5000\n",
    " aL, aR pan2 aSnd, random:i(0,1)\n",
    " out aL, aR\n",
    " schedule(\"Play\", random:i(.3,1.5), random:i(2,4))\n",
    "endin\n",
    "schedule(\"Play\",0,3)\n",
    "schedule(\"Blur\",3,0,100)\n",
    "\"\"\"\n",
    "cs.sendCode(orc)\n",
    "tablen = cs.tableLength(1)\n",
    "\n",
    "layout = [[sg.Graph(canvas_size=(400, 200), \n",
    "                    graph_bottom_left=(0, -1), \n",
    "                    graph_top_right=(tablen, 1),\n",
    "                    background_color='white',\n",
    "                    key='graph')]]\n",
    "\n",
    "window = sg.Window('csound table real time modifications', layout, finalize=True)\n",
    "table_disp = window['graph']\n",
    "\n",
    "while True:\n",
    "    event, values = window.read(timeout=100)\n",
    "    if event is None:\n",
    "        cs.stopEngine()\n",
    "        del cs\n",
    "        break\n",
    "    y = cs.table(1)\n",
    "    table_disp.erase()\n",
    "    plotArray(table_disp, y)\n",
    "\n",
    "window.close()"
   ]
  },
  {
   "cell_type": "markdown",
   "metadata": {},
   "source": [
    "Written by Joachim Heintz, June 2020."
   ]
  }
 ],
 "metadata": {
  "kernelspec": {
   "display_name": "Python 3",
   "language": "python",
   "name": "python3"
  },
  "language_info": {
   "codemirror_mode": {
    "name": "ipython",
    "version": 3
   },
   "file_extension": ".py",
   "mimetype": "text/x-python",
   "name": "python",
   "nbconvert_exporter": "python",
   "pygments_lexer": "ipython3",
   "version": "3.7.3"
  }
 },
 "nbformat": 4,
 "nbformat_minor": 2
}
