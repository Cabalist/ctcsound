{
 "cells": [
  {
   "cell_type": "markdown",
   "metadata": {},
   "source": [
    "# ctcsound"
   ]
  },
  {
   "cell_type": "markdown",
   "metadata": {},
   "source": [
    "![Components](../img/components.svg)"
   ]
  },
  {
   "cell_type": "markdown",
   "metadata": {},
   "source": [
    "The Csound library exposes its fonctionnalities through an API. This API is written in C.\n",
    "\n",
    "*ctcsound* is a Python module which wraps the Csound C API in Python. It allows calling the C functions of the API from Python, and it uses numpy to access Csound buffers and tables as numpy.ndarrays: the data pointer of the ndarray points directly to the Csound memory, while ctcsound adds to the ndarray information about size and shape."
   ]
  },
  {
   "cell_type": "markdown",
   "metadata": {},
   "source": [
    "# Jupyter"
   ]
  },
  {
   "cell_type": "markdown",
   "metadata": {},
   "source": [
    "Once the components above are installed, one can leverage their use through a framework like the Jupyter notebook. *csoundmagics* adds magics command to the Ipython kernel and provides *ICsound*, a python class making the jupyter notebook a sophisticated REPL for Csound."
   ]
  },
  {
   "cell_type": "markdown",
   "metadata": {},
   "source": [
    "# Installation"
   ]
  },
  {
   "cell_type": "markdown",
   "metadata": {},
   "source": [
    "Csound should be installed using one of the packages from the [latest release](https://github.com/csound/csound/releases/latest/), or built from [sources](https://github.com/csound/csound/blob/develop/BUILD.md).\n",
    "\n",
    "Python3.x and pip3 should be installed too.\n",
    "\n",
    "Then install numpy, matplotlib, and jupyter using pip:\n",
    "\n",
    "`pip3 install numpy`  \n",
    "`pip3 install matplotlib`  \n",
    "`pip3 install jupyter`\n",
    "\n",
    "or get a complete scientific Python environment installing [Anaconda](https://docs.anaconda.com/anaconda/install/).\n",
    "\n",
    "Finally, clone or download the github [ctcsound repository](https://github.com/csound/ctcsound) and run the command `python3 installCsoundmagics.py` from the ctcsound/cookbook/csoundmagics directory."
   ]
  },
  {
   "cell_type": "code",
   "execution_count": null,
   "metadata": {},
   "outputs": [],
   "source": []
  }
 ],
 "metadata": {
  "kernelspec": {
   "display_name": "Python 3",
   "language": "python",
   "name": "python3"
  },
  "language_info": {
   "codemirror_mode": {
    "name": "ipython",
    "version": 3
   },
   "file_extension": ".py",
   "mimetype": "text/x-python",
   "name": "python",
   "nbconvert_exporter": "python",
   "pygments_lexer": "ipython3",
   "version": "3.6.9"
  }
 },
 "nbformat": 4,
 "nbformat_minor": 2
}
